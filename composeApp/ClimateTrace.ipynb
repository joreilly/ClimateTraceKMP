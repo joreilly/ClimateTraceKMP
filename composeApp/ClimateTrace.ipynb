{
 "cells": [
  {
   "cell_type": "code",
   "execution_count": 1,
   "metadata": {
    "collapsed": true,
    "ExecuteTime": {
     "end_time": "2024-02-27T15:34:17.422265Z",
     "start_time": "2024-02-27T15:33:27.544720Z"
    }
   },
   "outputs": [
    {
     "name": "stderr",
     "output_type": "stream",
     "text": [
      "Line_9.jupyter.kts (6:26 - 28) No value passed for parameter 'client'"
     ]
    }
   ],
   "source": [
    "import dev.johnoreilly.climatetrace.remote.ClimateTraceApi\n",
    "import kotlinx.coroutines.runBlocking\n",
    "%use kandy\n",
    "%use dataframe\n",
    "\n",
    "val api = ClimateTraceApi()\n",
    "\n",
    "var emissionInfo = runBlocking { api.fetchCountryAssetEmissionsInfo(\"ESP\")[\"ESP\"] }\n",
    "\n",
    "val filteredEmissionsList = emissionInfo!!.sortedByDescending { it.emissions }.take(10)\n",
    "val values = filteredEmissionsList.map { it.emissions / 1_000_000 }\n",
    "val labels = filteredEmissionsList.map { it.sector }\n",
    "\n",
    "plot {\n",
    "    layout.title = \"Emissions\"\n",
    "    barsH {\n",
    "        y(labels) { axis.name = \"Sector\" }\n",
    "        x(values) { axis.name = \"Emissions (Million Tonnes)\" }\n",
    "    }\n",
    "}    \n",
    "    \n"
   ]
  },
  {
   "cell_type": "code",
   "execution_count": 2,
   "outputs": [
    {
     "name": "stderr",
     "output_type": "stream",
     "text": [
      "Line_10.jupyter.kts (1:1 - 13) Unresolved reference: emissionInfo"
     ]
    }
   ],
   "source": [
    "emissionInfo?.toDataFrame()\n"
   ],
   "metadata": {
    "collapsed": false,
    "ExecuteTime": {
     "end_time": "2024-02-27T15:34:17.441697Z",
     "start_time": "2024-02-27T15:34:17.424603Z"
    }
   }
  },
  {
   "cell_type": "code",
   "execution_count": 3,
   "outputs": [],
   "source": [],
   "metadata": {
    "collapsed": false,
    "ExecuteTime": {
     "end_time": "2024-02-27T15:34:17.456419Z",
     "start_time": "2024-02-27T15:34:17.443240Z"
    }
   }
  }
 ],
 "metadata": {
  "kernelspec": {
   "display_name": "Kotlin",
   "language": "kotlin",
   "name": "kotlin"
  },
  "language_info": {
   "name": "kotlin",
   "version": "1.9.0",
   "mimetype": "text/x-kotlin",
   "file_extension": ".kt",
   "pygments_lexer": "kotlin",
   "codemirror_mode": "text/x-kotlin",
   "nbconvert_exporter": ""
  },
  "ktnbPluginMetadata": {
   "projectDependencies": [
    "github.ClimateTraceKMP.composeApp.desktopMain",
    "github.ClimateTraceKMP.composeApp.desktopTest",
    "github.ClimateTraceKMP.composeApp.wasmJsMain",
    "github.ClimateTraceKMP.composeApp.wasmJsTest"
   ]
  }
 },
 "nbformat": 4,
 "nbformat_minor": 0
}
